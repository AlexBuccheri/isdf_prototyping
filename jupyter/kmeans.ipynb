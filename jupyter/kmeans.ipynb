{
 "cells": [
  {
   "cell_type": "markdown",
   "source": [
    "# K-means Clustering"
   ],
   "metadata": {
    "collapsed": false
   },
   "id": "298e1619bba1fda5"
  },
  {
   "cell_type": "code",
   "execution_count": null,
   "outputs": [],
   "source": [
    "\"\"\"Set up grid\n",
    "\"\"\"\n",
    "import numpy as np\n",
    "\n",
    "# Define a grid of points in 2D space\n",
    "n_x = n_y = 40\n",
    "x = np.linspace(0, 10, n_x)\n",
    "y = np.linspace(0, 10, n_y)\n",
    "X, Y = np.meshgrid(x, y)\n",
    "# Grid to define Gaussians\n",
    "grid = np.dstack((X, Y))\n",
    "assert grid.size == (n_x, n_y, 2)\n",
    "\n",
    "# Reshape for format expected by kmeans algorithm\n",
    "# i.e. grid[1, 0, :] == grid_reshaped[40, :]\n",
    "grid_reshaped = grid.reshape(-1, 2)\n",
    "assert grid_reshaped.shape == (n_x * n_y, 2)"
   ],
   "metadata": {
    "collapsed": false,
    "is_executing": true
   },
   "id": "e7db542319efdc17"
  },
  {
   "cell_type": "code",
   "execution_count": null,
   "outputs": [],
   "source": [
    "\"\"\"Set up Gaussians on grid\n",
    "\"\"\"\n",
    "from scipy.stats import multivariate_normal\n",
    "\n",
    "# Place a Gaussian distribution in each quadrant of the cubic grid\n",
    "mu1 = [2.5, 2.5]\n",
    "mu2 = [7.5, 2.5]\n",
    "mu3 = [2.5, 7.5]\n",
    "mu4 = [7.5, 7.5]\n",
    "cov = [[0.75, 0], [0, 0.75]]  # Covariance matrix: Diagonals are variances == std^2 i.e. (Gaussian width)^2\n",
    "\n",
    "z1 = multivariate_normal.pdf(grid, mean=mu1, cov=cov)\n",
    "z2 = multivariate_normal.pdf(grid, mean=mu2, cov=cov)\n",
    "z3 = multivariate_normal.pdf(grid, mean=mu3, cov=cov)\n",
    "z4 = multivariate_normal.pdf(grid, mean=mu4, cov=cov)\n",
    "z_total = z1 + z2 + z3 + z4\n",
    "\n",
    "## Plot the Gaussians in 3D plot\n",
    "# import matplotlib.pyplot as plt\n",
    "# fig = plt.figure()\n",
    "# ax = fig.add_subplot(111, projection='3d')\n",
    "# ax.plot_surface(X, Y, z1, cmap='viridis')\n",
    "# plt.show()"
   ],
   "metadata": {
    "collapsed": false
   },
   "id": "88d54b5af530fc5d"
  },
  {
   "cell_type": "code",
   "execution_count": null,
   "outputs": [],
   "source": [
    "\"\"\" Get some optimal centroids and plot overlaid on Gaussians\n",
    "\"\"\"\n",
    "import matplotlib.pyplot as plt\n",
    "from scipy.spatial import Voronoi, voronoi_plot_2d\n",
    "\n",
    "from src.isdf_prototyping.interpolation_points import weighted_kmeans\n",
    "\n",
    "# Number of interpolating points == N centroids == N clusters\n",
    "n_inter = 48\n",
    "\n",
    "# random_indices = np.sort(np.random.choice(grid_reshaped.shape[0], size=n_inter))\n",
    "random_indices = [10, 19, 31, 39, 93, 119, 148, 242, 255, 262, 267, 359, 364, 377,\n",
    "411,  436,  440,  457,  468,  477,  525,  562,  565,  592,  614,  624,  628,  662,\n",
    "754,  832,  855,  877,  894,  971,  985, 1028, 1086, 1208, 1209, 1261, 1269, 1344,\n",
    "425, 1461, 1493, 1498, 1582, 1590]\n",
    "\n",
    "initial_centroids = grid_reshaped[random_indices, :]\n",
    "weights = z_total.reshape(-1)\n",
    "\n",
    "assert len(random_indices) == n_inter\n",
    "assert weights.shape == (1600,)\n",
    "\n",
    "centroids, iter = weighted_kmeans(grid_reshaped, weights, initial_centroids,\n",
    "                                      n_iter=100, centroid_tol=1.0e-9,\n",
    "                                      safe_mode=True, verbose=False)\n",
    "\n",
    "# Gaussians on grid\n",
    "fig, ax = plt.subplots(figsize=(8, 6))\n",
    "contour = ax.contourf(X, Y, z_total, cmap='viridis')\n",
    "fig.colorbar(contour, ax=ax, label='Probability Density')\n",
    "# Centroids\n",
    "ax.scatter(centroids[:, 0], centroids[:, 1], color='red', label='Centroids')\n",
    "# Voronoi diagram\n",
    "vor = Voronoi(centroids)\n",
    "voronoi_plot_2d(vor, ax=ax, show_vertices=False, line_colors=\"white\")\n",
    "ax.legend()\n",
    "plt.show()\n"
   ],
   "metadata": {
    "collapsed": false
   },
   "id": "6f166bcb04890d10"
  },
  {
   "cell_type": "markdown",
   "source": [
    "## TODOs\n",
    "\n",
    "* Benchmark against sklearn: See how that performs for the same number of clusters, and same seeds\n",
    "* Test greedy k-means. See [here](https://scikit-learn.org/stable/modules/generated/sklearn.cluster.KMeans.html and here(https://theory.stanford.edu/~sergei/papers/kMeansPP-soda.pdf) for initial centroid positions\n",
    "* [Optimise number of centroids](https://scikit-learn.org/stable/auto_examples/cluster/plot_kmeans_silhouette_analysis.html#sphx-glr-auto-examples-cluster-plot-kmeans-silhouette-analysis-py."
   ],
   "metadata": {
    "collapsed": false
   },
   "id": "d738da06fe86b11a"
  },
  {
   "cell_type": "code",
   "execution_count": null,
   "outputs": [],
   "source": [],
   "metadata": {
    "collapsed": false
   },
   "id": "cb90382ccb7689d7"
  }
 ],
 "metadata": {
  "kernelspec": {
   "display_name": "Python 3",
   "language": "python",
   "name": "python3"
  },
  "language_info": {
   "codemirror_mode": {
    "name": "ipython",
    "version": 2
   },
   "file_extension": ".py",
   "mimetype": "text/x-python",
   "name": "python",
   "nbconvert_exporter": "python",
   "pygments_lexer": "ipython2",
   "version": "2.7.6"
  }
 },
 "nbformat": 4,
 "nbformat_minor": 5
}
